{
  "nbformat": 4,
  "nbformat_minor": 0,
  "metadata": {
    "colab": {
      "provenance": [],
      "authorship_tag": "ABX9TyPyip9XAzXHR+2Byd23gnPt",
      "include_colab_link": true
    },
    "kernelspec": {
      "name": "python3",
      "display_name": "Python 3"
    },
    "language_info": {
      "name": "python"
    }
  },
  "cells": [
    {
      "cell_type": "markdown",
      "metadata": {
        "id": "view-in-github",
        "colab_type": "text"
      },
      "source": [
        "<a href=\"https://colab.research.google.com/github/PaolaBrotti098/python/blob/main/aulapython.ipynb\" target=\"_parent\"><img src=\"https://colab.research.google.com/assets/colab-badge.svg\" alt=\"Open In Colab\"/></a>"
      ]
    },
    {
      "cell_type": "markdown",
      "source": [
        "#**AULA 1** 💓 💗 🇵"
      ],
      "metadata": {
        "id": "HVMioMJLnnPt"
      }
    },
    {
      "cell_type": "code",
      "source": [
        "ano = \"IX\"\n",
        "print(f\"{ano} competição de programação dá Start\")"
      ],
      "metadata": {
        "colab": {
          "base_uri": "https://localhost:8080/"
        },
        "id": "gP2oMcY0pdUa",
        "outputId": "374f32b0-2eaa-4f17-f4da-7c1a2e187b2f"
      },
      "execution_count": 3,
      "outputs": [
        {
          "output_type": "stream",
          "name": "stdout",
          "text": [
            "IX competição de programação dá Start\n"
          ]
        }
      ]
    }
  ]
}